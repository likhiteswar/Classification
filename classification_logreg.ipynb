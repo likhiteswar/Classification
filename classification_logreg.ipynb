{
 "cells": [
  {
   "cell_type": "code",
   "execution_count": 1,
   "metadata": {},
   "outputs": [],
   "source": [
    "import numpy as np\n",
    "\n",
    "import pandas as pd\n",
    "\n",
    "import matplotlib.pyplot as plt\n",
    "\n",
    "from sklearn.model_selection import train_test_split\n",
    "\n",
    "from sklearn.preprocessing import MinMaxScaler\n",
    "\n",
    "from sklearn.impute import SimpleImputer\n",
    "\n",
    "from sklearn.metrics import r2_score\n",
    "\n",
    "from sklearn.naive_bayes import GaussianNB\n",
    "\n",
    "from sklearn.metrics import accuracy_score\n",
    "\n",
    "from sklearn.metrics import classification_report\n",
    "\n",
    "from sklearn.metrics import confusion_matrix\n",
    "\n",
    "from sklearn.linear_model import LogisticRegression\n"
   ]
  },
  {
   "cell_type": "code",
   "execution_count": 2,
   "metadata": {},
   "outputs": [],
   "source": [
    "df = pd.read_csv('train.csv')"
   ]
  },
  {
   "cell_type": "code",
   "execution_count": 3,
   "metadata": {},
   "outputs": [
    {
     "data": {
      "text/plain": [
       "id                       0\n",
       "CARTYPE_07_CAT        5727\n",
       "METRIC_18_BIN            0\n",
       "METRIC_04                0\n",
       "CONDITION_11_BIN         0\n",
       "REGISTRATION_03      53709\n",
       "CONDITION_05_CAT      2891\n",
       "CARTYPE_15               0\n",
       "METRIC_09                0\n",
       "METRIC_01                0\n",
       "REGISTRATION_01          0\n",
       "CONDITION_14             0\n",
       "METRIC_12                0\n",
       "METRIC_08                0\n",
       "METRIC_06                0\n",
       "CONDITION_02_CAT       104\n",
       "METRIC_10                0\n",
       "CARTYPE_10_CAT           0\n",
       "CONDITION_09_BIN         0\n",
       "CARTYPE_03_CAT      205287\n",
       "target                   0\n",
       "CARTYPE_09_CAT         282\n",
       "CARTYPE_11               2\n",
       "CARTYPE_01_CAT          57\n",
       "CONDITION_13_BIN         0\n",
       "METRIC_11                0\n",
       "METRIC_14                0\n",
       "METRIC_17_BIN            0\n",
       "CARTYPE_13               0\n",
       "CARTYPE_06_CAT           0\n",
       "METRIC_15_BIN            0\n",
       "CONDITION_03             0\n",
       "METRIC_20_BIN            0\n",
       "METRIC_07                0\n",
       "CARTYPE_02_CAT           2\n",
       "CONDITION_01             0\n",
       "CONDITION_18_BIN         0\n",
       "CONDITION_16_BIN         0\n",
       "CONDITION_07_BIN         0\n",
       "CONDITION_17_BIN         0\n",
       "CARTYPE_11_CAT           0\n",
       "CONDITION_10_BIN         0\n",
       "REGISTRATION_02          0\n",
       "METRIC_16_BIN            0\n",
       "CONDITION_15             0\n",
       "METRIC_03                0\n",
       "METRIC_05                0\n",
       "METRIC_19_BIN            0\n",
       "CARTYPE_12               1\n",
       "CARTYPE_14           21400\n",
       "CARTYPE_08_CAT           0\n",
       "CONDITION_12_BIN         0\n",
       "CONDITION_06_BIN         0\n",
       "METRIC_02                0\n",
       "CARTYPE_04_CAT           0\n",
       "METRIC_13                0\n",
       "CONDITION_04_CAT        42\n",
       "CONDITION_08_BIN         0\n",
       "CARTYPE_05_CAT      133017\n",
       "dtype: int64"
      ]
     },
     "execution_count": 3,
     "metadata": {},
     "output_type": "execute_result"
    }
   ],
   "source": [
    "df.isna().sum()"
   ]
  },
  {
   "cell_type": "code",
   "execution_count": 4,
   "metadata": {},
   "outputs": [
    {
     "data": {
      "text/plain": [
       "False"
      ]
     },
     "execution_count": 4,
     "metadata": {},
     "output_type": "execute_result"
    }
   ],
   "source": [
    "df.duplicated().any()"
   ]
  },
  {
   "cell_type": "code",
   "execution_count": 5,
   "metadata": {},
   "outputs": [],
   "source": [
    "X_fill = df"
   ]
  },
  {
   "cell_type": "code",
   "execution_count": 6,
   "metadata": {},
   "outputs": [],
   "source": [
    "imputer = SimpleImputer(fill_value=np.nan, strategy='mean')\n",
    "\n",
    "X_fill = imputer.fit_transform(df)"
   ]
  },
  {
   "cell_type": "code",
   "execution_count": 7,
   "metadata": {},
   "outputs": [],
   "source": [
    "X_fill = pd.DataFrame(X_fill, columns=df.columns)"
   ]
  },
  {
   "cell_type": "code",
   "execution_count": 8,
   "metadata": {},
   "outputs": [
    {
     "data": {
      "text/plain": [
       "id                  0\n",
       "CARTYPE_07_CAT      0\n",
       "METRIC_18_BIN       0\n",
       "METRIC_04           0\n",
       "CONDITION_11_BIN    0\n",
       "REGISTRATION_03     0\n",
       "CONDITION_05_CAT    0\n",
       "CARTYPE_15          0\n",
       "METRIC_09           0\n",
       "METRIC_01           0\n",
       "REGISTRATION_01     0\n",
       "CONDITION_14        0\n",
       "METRIC_12           0\n",
       "METRIC_08           0\n",
       "METRIC_06           0\n",
       "CONDITION_02_CAT    0\n",
       "METRIC_10           0\n",
       "CARTYPE_10_CAT      0\n",
       "CONDITION_09_BIN    0\n",
       "CARTYPE_03_CAT      0\n",
       "target              0\n",
       "CARTYPE_09_CAT      0\n",
       "CARTYPE_11          0\n",
       "CARTYPE_01_CAT      0\n",
       "CONDITION_13_BIN    0\n",
       "METRIC_11           0\n",
       "METRIC_14           0\n",
       "METRIC_17_BIN       0\n",
       "CARTYPE_13          0\n",
       "CARTYPE_06_CAT      0\n",
       "METRIC_15_BIN       0\n",
       "CONDITION_03        0\n",
       "METRIC_20_BIN       0\n",
       "METRIC_07           0\n",
       "CARTYPE_02_CAT      0\n",
       "CONDITION_01        0\n",
       "CONDITION_18_BIN    0\n",
       "CONDITION_16_BIN    0\n",
       "CONDITION_07_BIN    0\n",
       "CONDITION_17_BIN    0\n",
       "CARTYPE_11_CAT      0\n",
       "CONDITION_10_BIN    0\n",
       "REGISTRATION_02     0\n",
       "METRIC_16_BIN       0\n",
       "CONDITION_15        0\n",
       "METRIC_03           0\n",
       "METRIC_05           0\n",
       "METRIC_19_BIN       0\n",
       "CARTYPE_12          0\n",
       "CARTYPE_14          0\n",
       "CARTYPE_08_CAT      0\n",
       "CONDITION_12_BIN    0\n",
       "CONDITION_06_BIN    0\n",
       "METRIC_02           0\n",
       "CARTYPE_04_CAT      0\n",
       "METRIC_13           0\n",
       "CONDITION_04_CAT    0\n",
       "CONDITION_08_BIN    0\n",
       "CARTYPE_05_CAT      0\n",
       "dtype: int64"
      ]
     },
     "execution_count": 8,
     "metadata": {},
     "output_type": "execute_result"
    }
   ],
   "source": [
    "X_fill.isna().sum()"
   ]
  },
  {
   "cell_type": "code",
   "execution_count": 9,
   "metadata": {},
   "outputs": [],
   "source": [
    "X = X_fill.drop([X_fill.columns[20]], axis = 1)\n",
    "\n",
    "Y = X_fill[X_fill.columns[20]]\n"
   ]
  },
  {
   "cell_type": "code",
   "execution_count": 10,
   "metadata": {},
   "outputs": [],
   "source": [
    "x_train, x_test, y_train, y_test = train_test_split(X, Y, test_size = 0.3, random_state=0)"
   ]
  },
  {
   "cell_type": "code",
   "execution_count": 11,
   "metadata": {},
   "outputs": [],
   "source": [
    "scaler = MinMaxScaler()\n",
    "\n",
    "x_train = scaler.fit_transform(x_train)\n",
    "\n",
    "x_test = scaler.transform(x_test)"
   ]
  },
  {
   "cell_type": "code",
   "execution_count": 12,
   "metadata": {},
   "outputs": [
    {
     "name": "stdout",
     "output_type": "stream",
     "text": [
      "Accuracy of GNB classifier on training set: 0.90\n",
      "Accuracy of GNB classifier on test set: 0.90\n"
     ]
    }
   ],
   "source": [
    "gnb = GaussianNB()\n",
    "gnb.fit(x_train, y_train)\n",
    "print('Accuracy of GNB classifier on training set: {:.2f}'\n",
    "     .format(gnb.score(x_train, y_train)))\n",
    "print('Accuracy of GNB classifier on test set: {:.2f}'\n",
    "     .format(gnb.score(x_test, y_test)))"
   ]
  },
  {
   "cell_type": "code",
   "execution_count": 13,
   "metadata": {},
   "outputs": [
    {
     "name": "stdout",
     "output_type": "stream",
     "text": [
      "0.9033063775453058\n"
     ]
    }
   ],
   "source": [
    "y_pred = gnb.predict(x_test)\n",
    "\n",
    "print(accuracy_score(y_test, y_pred))"
   ]
  },
  {
   "cell_type": "code",
   "execution_count": 14,
   "metadata": {},
   "outputs": [
    {
     "name": "stdout",
     "output_type": "stream",
     "text": [
      "[[80233  5823]\n",
      " [ 2810   416]]\n",
      "              precision    recall  f1-score   support\n",
      "\n",
      "         0.0       0.97      0.93      0.95     86056\n",
      "         1.0       0.07      0.13      0.09      3226\n",
      "\n",
      "    accuracy                           0.90     89282\n",
      "   macro avg       0.52      0.53      0.52     89282\n",
      "weighted avg       0.93      0.90      0.92     89282\n",
      "\n"
     ]
    }
   ],
   "source": [
    "pred = gnb.predict(x_test)\n",
    "\n",
    "print(confusion_matrix(y_test, pred))\n",
    "\n",
    "print(classification_report(y_test, pred))"
   ]
  },
  {
   "cell_type": "code",
   "execution_count": 15,
   "metadata": {},
   "outputs": [
    {
     "name": "stdout",
     "output_type": "stream",
     "text": [
      "Accuracy of Logistic regression classifier on training set: 0.62\n",
      "Accuracy of Logistic regression classifier on test set: 0.62\n"
     ]
    },
    {
     "name": "stderr",
     "output_type": "stream",
     "text": [
      "C:\\Users\\likit\\anaconda3\\lib\\site-packages\\sklearn\\linear_model\\_logistic.py:763: ConvergenceWarning: lbfgs failed to converge (status=1):\n",
      "STOP: TOTAL NO. of ITERATIONS REACHED LIMIT.\n",
      "\n",
      "Increase the number of iterations (max_iter) or scale the data as shown in:\n",
      "    https://scikit-learn.org/stable/modules/preprocessing.html\n",
      "Please also refer to the documentation for alternative solver options:\n",
      "    https://scikit-learn.org/stable/modules/linear_model.html#logistic-regression\n",
      "  n_iter_i = _check_optimize_result(\n"
     ]
    }
   ],
   "source": [
    "logreg = LogisticRegression(multi_class= 'multinomial', class_weight = 'balanced')\n",
    "logreg.fit(x_train, y_train)\n",
    "\n",
    "print('Accuracy of Logistic regression classifier on training set: {:.2f}'\n",
    "     .format(logreg.score(x_train, y_train)))\n",
    "print('Accuracy of Logistic regression classifier on test set: {:.2f}'\n",
    "     .format(logreg.score(x_test, y_test)))"
   ]
  },
  {
   "cell_type": "code",
   "execution_count": 16,
   "metadata": {},
   "outputs": [
    {
     "name": "stdout",
     "output_type": "stream",
     "text": [
      "0.6178177012163706\n"
     ]
    }
   ],
   "source": [
    "y1_pred = logreg.predict(x_test)\n",
    "\n",
    "print(accuracy_score(y_test, y1_pred))"
   ]
  },
  {
   "cell_type": "code",
   "execution_count": 17,
   "metadata": {},
   "outputs": [
    {
     "name": "stdout",
     "output_type": "stream",
     "text": [
      "[[53421 32635]\n",
      " [ 1487  1739]]\n",
      "              precision    recall  f1-score   support\n",
      "\n",
      "         0.0       0.97      0.62      0.76     86056\n",
      "         1.0       0.05      0.54      0.09      3226\n",
      "\n",
      "    accuracy                           0.62     89282\n",
      "   macro avg       0.51      0.58      0.43     89282\n",
      "weighted avg       0.94      0.62      0.73     89282\n",
      "\n"
     ]
    }
   ],
   "source": [
    "pred1 = logreg.predict(x_test)\n",
    "\n",
    "print(confusion_matrix(y_test, pred1))\n",
    "\n",
    "print(classification_report(y_test, pred1))"
   ]
  },
  {
   "cell_type": "code",
   "execution_count": 18,
   "metadata": {},
   "outputs": [],
   "source": [
    "db = pd.read_csv('test.csv')"
   ]
  },
  {
   "cell_type": "code",
   "execution_count": 19,
   "metadata": {},
   "outputs": [
    {
     "data": {
      "text/plain": [
       "id                       0\n",
       "CARTYPE_07_CAT        5762\n",
       "METRIC_18_BIN            0\n",
       "METRIC_04                0\n",
       "CONDITION_11_BIN         0\n",
       "REGISTRATION_03      54063\n",
       "CONDITION_05_CAT      2918\n",
       "CARTYPE_15               0\n",
       "METRIC_09                0\n",
       "METRIC_01                0\n",
       "REGISTRATION_01          0\n",
       "CONDITION_14             0\n",
       "METRIC_12                0\n",
       "METRIC_08                0\n",
       "METRIC_06                0\n",
       "CONDITION_02_CAT       112\n",
       "METRIC_10                0\n",
       "CARTYPE_10_CAT           0\n",
       "CONDITION_09_BIN         0\n",
       "CARTYPE_03_CAT      205944\n",
       "CARTYPE_09_CAT         287\n",
       "CARTYPE_11               3\n",
       "CARTYPE_01_CAT          50\n",
       "CONDITION_13_BIN         0\n",
       "METRIC_11                0\n",
       "METRIC_14                0\n",
       "METRIC_17_BIN            0\n",
       "CARTYPE_13               0\n",
       "CARTYPE_06_CAT           0\n",
       "METRIC_15_BIN            0\n",
       "CONDITION_03             0\n",
       "METRIC_20_BIN            0\n",
       "METRIC_07                0\n",
       "CARTYPE_02_CAT           3\n",
       "CONDITION_01             0\n",
       "CONDITION_18_BIN         0\n",
       "CONDITION_16_BIN         0\n",
       "CONDITION_07_BIN         0\n",
       "CONDITION_17_BIN         0\n",
       "CARTYPE_11_CAT           0\n",
       "CONDITION_10_BIN         0\n",
       "REGISTRATION_02          0\n",
       "METRIC_16_BIN            0\n",
       "CONDITION_15             0\n",
       "METRIC_03                0\n",
       "METRIC_05                0\n",
       "METRIC_19_BIN            0\n",
       "CARTYPE_12               0\n",
       "CARTYPE_14           21220\n",
       "CARTYPE_08_CAT           0\n",
       "CONDITION_12_BIN         0\n",
       "CONDITION_06_BIN         0\n",
       "METRIC_02                0\n",
       "CARTYPE_04_CAT           0\n",
       "METRIC_13                0\n",
       "CONDITION_04_CAT        41\n",
       "CONDITION_08_BIN         0\n",
       "CARTYPE_05_CAT      133534\n",
       "dtype: int64"
      ]
     },
     "execution_count": 19,
     "metadata": {},
     "output_type": "execute_result"
    }
   ],
   "source": [
    "db.isna().sum()"
   ]
  },
  {
   "cell_type": "code",
   "execution_count": 20,
   "metadata": {},
   "outputs": [],
   "source": [
    "X1 = db"
   ]
  },
  {
   "cell_type": "code",
   "execution_count": 21,
   "metadata": {},
   "outputs": [],
   "source": [
    "imputer = SimpleImputer(fill_value=np.nan, strategy='mean')\n",
    "\n",
    "X1 = imputer.fit_transform(db)"
   ]
  },
  {
   "cell_type": "code",
   "execution_count": 22,
   "metadata": {},
   "outputs": [],
   "source": [
    "X1 = pd.DataFrame(X1, columns=db.columns)"
   ]
  },
  {
   "cell_type": "code",
   "execution_count": 23,
   "metadata": {},
   "outputs": [
    {
     "data": {
      "text/plain": [
       "id                  0\n",
       "CARTYPE_07_CAT      0\n",
       "METRIC_18_BIN       0\n",
       "METRIC_04           0\n",
       "CONDITION_11_BIN    0\n",
       "REGISTRATION_03     0\n",
       "CONDITION_05_CAT    0\n",
       "CARTYPE_15          0\n",
       "METRIC_09           0\n",
       "METRIC_01           0\n",
       "REGISTRATION_01     0\n",
       "CONDITION_14        0\n",
       "METRIC_12           0\n",
       "METRIC_08           0\n",
       "METRIC_06           0\n",
       "CONDITION_02_CAT    0\n",
       "METRIC_10           0\n",
       "CARTYPE_10_CAT      0\n",
       "CONDITION_09_BIN    0\n",
       "CARTYPE_03_CAT      0\n",
       "CARTYPE_09_CAT      0\n",
       "CARTYPE_11          0\n",
       "CARTYPE_01_CAT      0\n",
       "CONDITION_13_BIN    0\n",
       "METRIC_11           0\n",
       "METRIC_14           0\n",
       "METRIC_17_BIN       0\n",
       "CARTYPE_13          0\n",
       "CARTYPE_06_CAT      0\n",
       "METRIC_15_BIN       0\n",
       "CONDITION_03        0\n",
       "METRIC_20_BIN       0\n",
       "METRIC_07           0\n",
       "CARTYPE_02_CAT      0\n",
       "CONDITION_01        0\n",
       "CONDITION_18_BIN    0\n",
       "CONDITION_16_BIN    0\n",
       "CONDITION_07_BIN    0\n",
       "CONDITION_17_BIN    0\n",
       "CARTYPE_11_CAT      0\n",
       "CONDITION_10_BIN    0\n",
       "REGISTRATION_02     0\n",
       "METRIC_16_BIN       0\n",
       "CONDITION_15        0\n",
       "METRIC_03           0\n",
       "METRIC_05           0\n",
       "METRIC_19_BIN       0\n",
       "CARTYPE_12          0\n",
       "CARTYPE_14          0\n",
       "CARTYPE_08_CAT      0\n",
       "CONDITION_12_BIN    0\n",
       "CONDITION_06_BIN    0\n",
       "METRIC_02           0\n",
       "CARTYPE_04_CAT      0\n",
       "METRIC_13           0\n",
       "CONDITION_04_CAT    0\n",
       "CONDITION_08_BIN    0\n",
       "CARTYPE_05_CAT      0\n",
       "dtype: int64"
      ]
     },
     "execution_count": 23,
     "metadata": {},
     "output_type": "execute_result"
    }
   ],
   "source": [
    "X1.isna().sum()"
   ]
  },
  {
   "cell_type": "code",
   "execution_count": 24,
   "metadata": {},
   "outputs": [
    {
     "name": "stderr",
     "output_type": "stream",
     "text": [
      "C:\\Users\\likit\\anaconda3\\lib\\site-packages\\sklearn\\linear_model\\_logistic.py:763: ConvergenceWarning: lbfgs failed to converge (status=1):\n",
      "STOP: TOTAL NO. of ITERATIONS REACHED LIMIT.\n",
      "\n",
      "Increase the number of iterations (max_iter) or scale the data as shown in:\n",
      "    https://scikit-learn.org/stable/modules/preprocessing.html\n",
      "Please also refer to the documentation for alternative solver options:\n",
      "    https://scikit-learn.org/stable/modules/linear_model.html#logistic-regression\n",
      "  n_iter_i = _check_optimize_result(\n"
     ]
    }
   ],
   "source": [
    "X1 = scaler.transform(X1)\n",
    "\n",
    "logreg.fit(x_train, y_train)\n",
    "\n",
    "result = logreg.predict(X1)"
   ]
  },
  {
   "cell_type": "code",
   "execution_count": 25,
   "metadata": {},
   "outputs": [
    {
     "data": {
      "text/plain": [
       "array([1., 0., 0., ..., 1., 0., 0.])"
      ]
     },
     "execution_count": 25,
     "metadata": {},
     "output_type": "execute_result"
    }
   ],
   "source": [
    "result"
   ]
  },
  {
   "cell_type": "code",
   "execution_count": 26,
   "metadata": {},
   "outputs": [],
   "source": [
    "db[\"target\"] = result\n",
    "\n",
    "to_submit = db[['id',\"target\"]]\n",
    "\n",
    "to_submit.to_csv(\"submission2.csv\", index = False)"
   ]
  }
 ],
 "metadata": {
  "interpreter": {
   "hash": "622fb33f5e2b019c14443e44d8c8ca051aee8ed3e38b33f4be828dcb5c250208"
  },
  "kernelspec": {
   "display_name": "Python 3.8.8 64-bit ('base': conda)",
   "name": "python3"
  },
  "language_info": {
   "codemirror_mode": {
    "name": "ipython",
    "version": 3
   },
   "file_extension": ".py",
   "mimetype": "text/x-python",
   "name": "python",
   "nbconvert_exporter": "python",
   "pygments_lexer": "ipython3",
   "version": "3.8.8"
  },
  "orig_nbformat": 4
 },
 "nbformat": 4,
 "nbformat_minor": 2
}
